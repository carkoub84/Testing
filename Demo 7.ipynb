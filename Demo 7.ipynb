{
 "cells": [
  {
   "cell_type": "code",
   "execution_count": 7,
   "id": "d519011d",
   "metadata": {},
   "outputs": [],
   "source": [
    "# Testing Your Code\n",
    "# Writing Your First Test\n",
    "\n",
    "def add_numbers(a, b):\n",
    "    return a + b\n"
   ]
  },
  {
   "cell_type": "code",
   "execution_count": 18,
   "id": "c8458d8c",
   "metadata": {},
   "outputs": [
    {
     "name": "stderr",
     "output_type": "stream",
     "text": [
      ".\n",
      "----------------------------------------------------------------------\n",
      "Ran 1 test in 0.003s\n",
      "\n",
      "OK\n"
     ]
    },
    {
     "data": {
      "text/plain": [
       "<unittest.runner.TextTestResult run=1 errors=0 failures=0>"
      ]
     },
     "execution_count": 18,
     "metadata": {},
     "output_type": "execute_result"
    }
   ],
   "source": [
    "# Executing Your First Test\n",
    "\n",
    "import unittest\n",
    "\n",
    "class TestAddNumbers(unittest.TestCase):\n",
    "    \n",
    "    def test_add_numbers(self):\n",
    "        self.assertEqual(add_numbers(2, 3), 5)  # Test if 2 + 3 equals 5\n",
    "        self.assertEqual(add_numbers(-1, 1), 0)  # Test if -1 + 1 equals 0\n",
    "        self.assertEqual(add_numbers(0, 0), 0)   # Test if 0 + 0 equals 0\n",
    "\n",
    "# Run the tests\n",
    "unittest.TextTestRunner().run(unittest.TestLoader().loadTestsFromTestCase(TestAddNumbers))\n"
   ]
  },
  {
   "cell_type": "code",
   "execution_count": null,
   "id": "5f4b54af",
   "metadata": {},
   "outputs": [],
   "source": []
  }
 ],
 "metadata": {
  "kernelspec": {
   "display_name": "Python 3 (ipykernel)",
   "language": "python",
   "name": "python3"
  },
  "language_info": {
   "codemirror_mode": {
    "name": "ipython",
    "version": 3
   },
   "file_extension": ".py",
   "mimetype": "text/x-python",
   "name": "python",
   "nbconvert_exporter": "python",
   "pygments_lexer": "ipython3",
   "version": "3.11.5"
  }
 },
 "nbformat": 4,
 "nbformat_minor": 5
}
